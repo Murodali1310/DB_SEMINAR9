{
 "cells": [
  {
   "cell_type": "markdown",
   "metadata": {
    "collapsed": true,
    "id": "7oABKY-qbP2w",
    "pycharm": {
     "name": "#%% md\n"
    }
   },
   "source": [
    "# Работа с реляционными базыми данных"
   ]
  },
  {
   "cell_type": "markdown",
   "metadata": {
    "id": "o2H1P_CvbP21",
    "pycharm": {
     "name": "#%% md\n"
    }
   },
   "source": [
    "### План\n",
    "1. Оглянемся назад: Реляционная базы данных и Язык SQL\n",
    "1. SQLite3\n",
    "1. PostgreSQL + psycopg2\n",
    "1. ORM. [SQLAlchemy](http://www.sqlalchemy.org)"
   ]
  },
  {
   "cell_type": "markdown",
   "metadata": {
    "id": "q0bszKLGbP22",
    "pycharm": {
     "name": "#%% md\n"
    }
   },
   "source": [
    "### Реляционная базы данных"
   ]
  },
  {
   "cell_type": "markdown",
   "metadata": {
    "id": "05Jztv7GbP22",
    "pycharm": {
     "name": "#%% md\n"
    }
   },
   "source": [
    "Реляционные базы данных:\n",
    "  * Связанная информация, хранящаяся в двумерных таблицах\n",
    "  * Каждая таблица представляет собой набор полей (колонки) и набор объектов (записей)\n",
    "  * Порядок записей в таблице произволен, столбцов - фиксирован\n",
    "  * Идентификация записей осуществляется с помощью первичных ключей\n",
    "\n",
    "Если коротко, то реляционные базы данных – это таблицы с индексами для быстрого поиска, связанные между собой"
   ]
  },
  {
   "cell_type": "markdown",
   "metadata": {
    "id": "-AGmtBjGbP23",
    "pycharm": {
     "name": "#%% md\n"
    }
   },
   "source": [
    "### Язык SQL"
   ]
  },
  {
   "cell_type": "markdown",
   "metadata": {
    "id": "eXCsxL56bP23",
    "pycharm": {
     "name": "#%% md\n"
    }
   },
   "source": [
    "* [Язык структурированных запросов](https://ru.wikipedia.org/wiki/SQL)\n",
    "* Стандартизирован, но БД пытаются соответствовать стандарту ANSI не позволяя ему ограничивать их слишком сильно\n",
    "* Типы: Числа (INTEGER и DECIMAL), строки (CHAR, VARCHAR) и т.д.\n",
    "* Операторы: SELECT FROM, WHERE, GROUP BY, COUNT, HAVING и т.д.\n",
    "* Джойны: Inner join, outer join и т.д.\n",
    "* Подзапросы\n",
    "* Команды модификации: INSERT, DELETE, UPDATE\n",
    "* Создание таблиц\n"
   ]
  },
  {
   "cell_type": "markdown",
   "metadata": {
    "id": "ll03055DZMjM",
    "pycharm": {
     "name": "#%% md\n"
    }
   },
   "source": [
    "## [Курсор](https://postgrespro.ru/docs/postgrespro/9.6/plpgsql-cursors)\n",
    "\n",
    "**Курсор** – специальный объект, выполняющий запрос и получающий его результат.\n",
    "\n",
    "Вместо того чтобы сразу выполнять весь запрос, есть возможность настроить курсор, инкапсулирующий запрос, и затем получать результат запроса по нескольку строк за раз. Одна из причин так делать заключается в том, чтобы избежать переполнения памяти, когда результат содержит большое количество строк.\n",
    "\n",
    "В PL/pgSQL:\n",
    "```sql\n",
    "name [ [ NO ] SCROLL ] CURSOR [ ( arguments ) ] FOR query;\n",
    "```\n",
    "\n",
    "\n",
    "```sql\n",
    "DECLARE\n",
    "    curs1 refcursor;\n",
    "    curs2 CURSOR FOR SELECT * FROM tenk1;\n",
    "    curs3 CURSOR (key integer) FOR SELECT * FROM tenk1 WHERE unique1 = key;\n",
    "```"
   ]
  },
  {
   "cell_type": "markdown",
   "metadata": {
    "id": "uFYsmfqeZMjN",
    "pycharm": {
     "name": "#%% md\n"
    }
   },
   "source": [
    "### Открывание курсора\n",
    "\n",
    "\n",
    "```sql\n",
    "OPEN unbound_cursorvar [ [ NO ] SCROLL ] FOR query;\n",
    "\n",
    "OPEN curs1 FOR SELECT * FROM foo WHERE key = mykey;\n",
    "OPEN curs2;\n",
    "```\n",
    "\n",
    "### Открывание курсора на EXECUTE\n",
    "\n",
    "\n",
    "```sql\n",
    "OPEN unbound_cursorvar [ [ NO ] SCROLL ] FOR EXECUTE query_string\n",
    "                                     [ USING expression [, ... ] ];\n",
    "\n",
    "OPEN curs1 FOR EXECUTE 'SELECT * FROM ' || quote_ident(tabname)\n",
    "                                        || ' WHERE col1 = $1' USING keyvalue;\n",
    "```"
   ]
  },
  {
   "cell_type": "markdown",
   "metadata": {
    "id": "VSt2YtNjZMjO",
    "pycharm": {
     "name": "#%% md\n"
    }
   },
   "source": [
    "### Передача параметров в курсор\n",
    "\n",
    "```sql\n",
    "DECLARE\n",
    "    -- Переменная обязательно вводится до курсора\n",
    "    key integer;\n",
    "    curs4 CURSOR FOR SELECT * FROM tenk1 WHERE unique1 = key;\n",
    "    curs3 CURSOR (key integer) FOR SELECT * FROM tenk1 WHERE unique1 = key;\n",
    "BEGIN\n",
    "    key := 42;\n",
    "    OPEN curs4;\n",
    "    OPEN curs3(42);\n",
    "```\n",
    "\n",
    "Если необходимо освободить ресурсы до завершения транзакции или освободить переменную курсора для повторного открывания, можно закрыть уже открытый курсор:\n",
    "\n",
    "```sql\n",
    "CLOSE cursor;\n",
    "\n",
    "CLOSE curs1;\n",
    "```"
   ]
  },
  {
   "cell_type": "markdown",
   "metadata": {
    "id": "ebFOA5ZwZMjP",
    "pycharm": {
     "name": "#%% md\n"
    }
   },
   "source": [
    "## Использование курсоров\n",
    "\n",
    "Как только курсор открыт, можно начинать работу с данными\n",
    "\n",
    "## FETCH\n",
    "\n",
    "FETCH извлекает строку из курсора в заданный таргет.\n",
    "\n",
    "```sql\n",
    "FETCH [ direction { FROM | IN } ] cursor INTO target;\n",
    "```\n",
    "\n",
    "В качестве direction могут использоваться: `NEXT, FIRST, LAST, ABSOLUTE count, RELATIVE count` и т.д.\n",
    "\n",
    "```sql\n",
    "FETCH curs1 INTO rowvar;\n",
    "FETCH curs2 INTO foo, bar, baz;\n",
    "FETCH LAST FROM curs3 INTO x, y;\n",
    "FETCH RELATIVE -2 FROM curs4 INTO x;\n",
    "```"
   ]
  },
  {
   "cell_type": "markdown",
   "metadata": {
    "id": "uPxWrbJbbP24",
    "pycharm": {
     "name": "#%% md\n"
    }
   },
   "source": [
    "### [SQLite3](https://docs.python.org/3/library/sqlite3.html)"
   ]
  },
  {
   "cell_type": "markdown",
   "metadata": {
    "id": "3wfW8_xMbP25",
    "pycharm": {
     "name": "#%% md\n"
    }
   },
   "source": [
    "* Простейший способ использовать БД\n",
    "* Вся БД хранится в одном файле (или в памяти)\n",
    "* Отличный способ иметь БД в мобильных приложениях\n",
    "* Доступ из коммандной строки: sqlite3 filename\n",
    "* API для Python, с++ и т.д."
   ]
  },
  {
   "cell_type": "markdown",
   "metadata": {
    "id": "DUflS83cbP26",
    "pycharm": {
     "name": "#%% md\n"
    }
   },
   "source": [
    "#### Попробуем выполнить простой запрос"
   ]
  },
  {
   "cell_type": "code",
   "execution_count": 1,
   "metadata": {
    "id": "Ie83IchCbP27",
    "outputId": "15fccef5-763a-4be6-f673-a77a834f38bc",
    "colab": {
     "base_uri": "https://localhost:8080/"
    },
    "pycharm": {
     "name": "#%%\n"
    }
   },
   "outputs": [
    {
     "output_type": "stream",
     "name": "stdout",
     "text": [
      "(1,)\n"
     ]
    }
   ],
   "source": [
    "import sqlite3\n",
    "\n",
    "# Соединение с базой\n",
    "conn = sqlite3.connect('example.db')\n",
    "\n",
    "# Объект для исполнения SQL запросов над базой\n",
    "cur = conn.cursor()\n",
    "\n",
    "# Выполним какой-нибудь запрос\n",
    "cur.execute('select 1')\n",
    "\n",
    "# Читаем результат. fetchone ожидает единственную строку\n",
    "print(cur.fetchone())\n",
    "\n",
    "# Закрываем за собой соединение с базой.\n",
    "conn.close()"
   ]
  },
  {
   "cell_type": "markdown",
   "metadata": {
    "id": "F4tF0VUbbP29",
    "pycharm": {
     "name": "#%% md\n"
    }
   },
   "source": [
    "Не забываем закрывать соединение! <br>\n",
    "**Connection - это ресурс, который может и закончиться.** <br>\n",
    "В этом нам помогут контекстные менеджеры."
   ]
  },
  {
   "cell_type": "code",
   "execution_count": 2,
   "metadata": {
    "id": "YcYwD2AgbP2-",
    "outputId": "8a9359d6-fe64-4d1e-a367-53e1101d60a5",
    "colab": {
     "base_uri": "https://localhost:8080/"
    },
    "pycharm": {
     "name": "#%%\n"
    }
   },
   "outputs": [
    {
     "output_type": "stream",
     "name": "stdout",
     "text": [
      "('Hello, world!', 42)\n"
     ]
    }
   ],
   "source": [
    "# Соединение с базой теперь закроется само.\n",
    "with sqlite3.connect('example.db') as conn:\n",
    "    \n",
    "    # Объект для исполнения SQL запросов над базой\n",
    "    cur = conn.cursor()\n",
    "\n",
    "    # Выполним какой-нибудь запрос\n",
    "    cur.execute(\"select 'Hello, world!', 6 * 7\")\n",
    "\n",
    "    # Читаем результат. fetchone ожидает единственную строку\n",
    "    print(cur.fetchone())"
   ]
  },
  {
   "cell_type": "markdown",
   "metadata": {
    "id": "KUj3jhIibP2-",
    "pycharm": {
     "name": "#%% md\n"
    }
   },
   "source": [
    "Установка соединения может быть дорогой операцией.<br>\n",
    "Не стоит создавать соединение для каждого запроса. По возможности переиспользуйте старое."
   ]
  },
  {
   "cell_type": "markdown",
   "metadata": {
    "id": "xyd2ELNMbP2_",
    "pycharm": {
     "name": "#%% md\n"
    }
   },
   "source": [
    "#### Теперь посмотрим как работать с sqlite3 на примере простой базы с пользователями.<br>\n",
    "Для начала создадим таблицы:"
   ]
  },
  {
   "cell_type": "code",
   "execution_count": 3,
   "metadata": {
    "id": "FVswP4hubP2_",
    "pycharm": {
     "name": "#%%\n"
    }
   },
   "outputs": [],
   "source": [
    "def create_tables(cur, conn):\n",
    "    # Удалим старые таблицы, если есть.\n",
    "    cur.execute('DROP TABLE IF EXISTS users')\n",
    "    cur.execute('DROP TABLE IF EXISTS user_types')\n",
    "    \n",
    "    # Пишем SQL запрос для создания таблиц\n",
    "    cur.execute('''\n",
    "        CREATE TABLE user_types (\n",
    "            id INTEGER PRIMARY KEY AUTOINCREMENT,\n",
    "            name VARCHAR(255)\n",
    "        )''')\n",
    "    cur.execute('''\n",
    "        CREATE TABLE users (\n",
    "            id INTEGER PRIMARY KEY AUTOINCREMENT,\n",
    "            first_name VARCHAR(255),\n",
    "            last_name VARCHAR(255),\n",
    "            active BOOLEAN,\n",
    "            profile INTEGER,\n",
    "            FOREIGN KEY(profile) REFERENCES user_types(id)\n",
    "        )''')\n",
    "    \n",
    "    # Отправить текущую транзакцию.\n",
    "    # Если не сделать, то изменения не будут видны в других connect'ax\n",
    "    # Закрытие соединения не вызывает commit автоматически!\n",
    "    conn.commit()"
   ]
  },
  {
   "cell_type": "markdown",
   "metadata": {
    "collapsed": true,
    "id": "r7EZcJ9TbP2_",
    "pycharm": {
     "name": "#%% md\n"
    }
   },
   "source": [
    "Работать с пустыми таблицами не очень интересно, давайте заполним их."
   ]
  },
  {
   "cell_type": "code",
   "execution_count": 4,
   "metadata": {
    "id": "ebQQhCjQbP3A",
    "pycharm": {
     "name": "#%%\n"
    }
   },
   "outputs": [],
   "source": [
    "def add_user_types(cur):\n",
    "    cur.execute('''INSERT INTO user_types (name) VALUES ('Student')''')\n",
    "    cur.execute('''INSERT INTO user_types (name) VALUES ('Teacher')''')\n",
    "\n",
    "def add_teachers(cur):\n",
    "    cur.execute('''\n",
    "        INSERT INTO users (first_name, last_name, active, profile) VALUES \n",
    "            ('Maxim', 'Popov', '1', \n",
    "                (SELECT id FROM user_types WHERE name = 'Teacher'))''')\n",
    "    cur.execute('''\n",
    "        INSERT INTO users (first_name, last_name, active, profile) VALUES \n",
    "            ('Igor', 'Orlov', '1', \n",
    "                (SELECT id FROM user_types WHERE name = 'Teacher'))''')\n",
    "\n",
    "def add_students(cur):\n",
    "    cur.execute('''\n",
    "        INSERT INTO users (first_name, last_name, active, profile) VALUES \n",
    "            ('Ivan', 'Ivanov', '0', \n",
    "                (SELECT id FROM user_types WHERE name = 'Student'))''')\n",
    "    cur.execute('''\n",
    "        INSERT INTO users (first_name, last_name, active, profile) VALUES \n",
    "            ('Petr', 'Petrov', '0', \n",
    "                (SELECT id FROM user_types WHERE name = 'Student'))''')\n",
    "    cur.execute('''\n",
    "        INSERT INTO users (first_name, last_name, active, profile) VALUES \n",
    "            ('Petr', 'Sidorov', '0', \n",
    "                (SELECT id FROM user_types WHERE name = 'Student'))''')"
   ]
  },
  {
   "cell_type": "markdown",
   "metadata": {
    "id": "8CFyS9v-bP3A",
    "pycharm": {
     "name": "#%% md\n"
    }
   },
   "source": [
    "Выполним запросы к базе"
   ]
  },
  {
   "cell_type": "code",
   "execution_count": 5,
   "metadata": {
    "id": "ifA26d0GbP3B",
    "pycharm": {
     "name": "#%%\n"
    }
   },
   "outputs": [],
   "source": [
    "with sqlite3.connect('example.db') as conn:\n",
    "\n",
    "    cur = conn.cursor()\n",
    "    \n",
    "    # Функция создания таблиц коммитит транзакцию сразу.\n",
    "    create_tables(cur, conn)\n",
    "    \n",
    "    # Функции добавления польователей не вызывают commit.\n",
    "    add_user_types(cur)\n",
    "    add_teachers(cur)\n",
    "    add_students(cur)\n",
    "    \n",
    "    # Делаем commit для всех запросов добавления.\n",
    "    # Если забудем, то таблицы останутся пустыми.\n",
    "    conn.commit()"
   ]
  },
  {
   "cell_type": "markdown",
   "metadata": {
    "id": "2SL4xk33bP3B",
    "pycharm": {
     "name": "#%% md\n"
    }
   },
   "source": [
    "Попробуем теперь зачитать всех студентов"
   ]
  },
  {
   "cell_type": "code",
   "execution_count": 6,
   "metadata": {
    "id": "UxbEW5P4bP3B",
    "outputId": "8a62c740-8f2c-496e-f07e-fded47ba8205",
    "colab": {
     "base_uri": "https://localhost:8080/"
    },
    "pycharm": {
     "name": "#%%\n"
    }
   },
   "outputs": [
    {
     "output_type": "stream",
     "name": "stdout",
     "text": [
      "Ivan Ivanov\n",
      "Petr Petrov\n",
      "Petr Sidorov\n"
     ]
    }
   ],
   "source": [
    "def select_all_students(conn):\n",
    "    query = '''SELECT users.first_name, users.last_name \n",
    "               FROM users \n",
    "               WHERE profile = (SELECT id FROM user_types WHERE name = 'Student')'''\n",
    "    cur = conn.cursor()\n",
    "    cur.execute(query)\n",
    "\n",
    "    # Получим все строчки результата выполнения query\n",
    "    # Это не всегда быстро, особенно если много результатов\n",
    "    # Кроме того предполагает большое потребление памяти,\n",
    "    # так как возвращается list\n",
    "    rows = cur.fetchall() \n",
    "\n",
    "    # Как fetchall, только задаем количество получаемых записей\n",
    "    # rows = cur.fetchmany(10) \n",
    "\n",
    "    for row in rows:\n",
    "        first_name, last_name = row\n",
    "        print(first_name, last_name)\n",
    "        \n",
    "with sqlite3.connect('example.db') as conn:\n",
    "    select_all_students(conn)"
   ]
  },
  {
   "cell_type": "code",
   "execution_count": 7,
   "metadata": {
    "id": "2p_BXccRbP3C",
    "outputId": "8c6a9052-99f5-4af4-d4ec-42a8ab26b68c",
    "colab": {
     "base_uri": "https://localhost:8080/"
    },
    "pycharm": {
     "name": "#%%\n"
    }
   },
   "outputs": [
    {
     "output_type": "stream",
     "name": "stdout",
     "text": [
      "Ivan Ivanov\n",
      "Petr Petrov\n",
      "Petr Sidorov\n"
     ]
    }
   ],
   "source": [
    "def select_all_students(conn):\n",
    "    query = '''SELECT users.first_name, users.last_name \n",
    "               FROM users \n",
    "               WHERE profile = (SELECT id FROM user_types WHERE name = 'Student')'''\n",
    "    cur = conn.cursor()\n",
    "    cur.execute(query)\n",
    "\n",
    "    # А лучше просто проитерироваться\n",
    "    for row in cur:\n",
    "        first_name, last_name = row\n",
    "        print(first_name, last_name)\n",
    "        \n",
    "with sqlite3.connect('example.db') as conn:\n",
    "    select_all_students(conn)"
   ]
  },
  {
   "cell_type": "markdown",
   "metadata": {
    "id": "aPk8ZcA8bP3C",
    "pycharm": {
     "name": "#%% md\n"
    }
   },
   "source": [
    "Попробуем сделать учителя Maxim Popov студентом"
   ]
  },
  {
   "cell_type": "code",
   "execution_count": 8,
   "metadata": {
    "id": "8hDCZkdlbP3C",
    "pycharm": {
     "name": "#%%\n"
    }
   },
   "outputs": [],
   "source": [
    "def alter_teacher(conn):\n",
    "    cur = conn.cursor()\n",
    "    cur.execute('''UPDATE users SET profile = (SELECT id FROM user_types WHERE name = \"Student\")\n",
    "                   WHERE first_name = \"Maxim\" AND last_name = \"Popov\"\n",
    "    ''')\n",
    "\n",
    "with sqlite3.connect('example.db') as conn:\n",
    "    alter_teacher(conn)"
   ]
  },
  {
   "cell_type": "markdown",
   "metadata": {
    "id": "AuAygsK7bP3D",
    "pycharm": {
     "name": "#%% md\n"
    }
   },
   "source": [
    "Посмотрим на результат"
   ]
  },
  {
   "cell_type": "code",
   "execution_count": 9,
   "metadata": {
    "id": "x-R_7mfubP3D",
    "outputId": "2b9e6794-2fa0-4c6c-9640-3de32217b1b3",
    "colab": {
     "base_uri": "https://localhost:8080/"
    },
    "pycharm": {
     "name": "#%%\n"
    }
   },
   "outputs": [
    {
     "output_type": "stream",
     "name": "stdout",
     "text": [
      "Maxim Popov\n",
      "Ivan Ivanov\n",
      "Petr Petrov\n",
      "Petr Sidorov\n"
     ]
    }
   ],
   "source": [
    "with sqlite3.connect('example.db') as conn:\n",
    "    select_all_students(conn)"
   ]
  },
  {
   "cell_type": "markdown",
   "metadata": {
    "id": "uEfWRG35bP3D",
    "pycharm": {
     "name": "#%% md\n"
    }
   },
   "source": [
    "Создадим функцию, чтобы добавить всех студентов сразу!"
   ]
  },
  {
   "cell_type": "code",
   "execution_count": 10,
   "metadata": {
    "id": "9zrWtzzObP3D",
    "pycharm": {
     "name": "#%%\n"
    }
   },
   "outputs": [],
   "source": [
    "def add_students(conn, students):\n",
    "    queries = []\n",
    "    \n",
    "    for student in students:\n",
    "        query = '''\n",
    "            INSERT INTO users (first_name, last_name, active, profile) VALUES \n",
    "                (\"{}\", \"{}\", 0, \n",
    "                    (SELECT id FROM user_types WHERE name = \"Student\"));'''\n",
    "        queries.append(query.format(*student))\n",
    "    \n",
    "    cur = conn.cursor()\n",
    "    \n",
    "    # Исполняет сразу несколько запросов, разделенных ';'\n",
    "    cur.executescript(''.join(queries))"
   ]
  },
  {
   "cell_type": "code",
   "execution_count": 11,
   "metadata": {
    "id": "tVpKRYLtbP3E",
    "outputId": "db4d25d4-6966-4f8e-c3b7-58ce16c7721e",
    "colab": {
     "base_uri": "https://localhost:8080/"
    },
    "pycharm": {
     "name": "#%%\n"
    }
   },
   "outputs": [
    {
     "output_type": "stream",
     "name": "stdout",
     "text": [
      "Maxim Popov\n",
      "Ivan Ivanov\n",
      "Petr Petrov\n",
      "Petr Sidorov\n",
      "Vladimir Vladimirov\n",
      "Dmitry Dmitriev\n"
     ]
    }
   ],
   "source": [
    "with sqlite3.connect('example.db') as conn:\n",
    "    students = [('Vladimir', 'Vladimirov'), ('Dmitry', 'Dmitriev')]\n",
    "    add_students(conn, students)\n",
    "    \n",
    "    # Проверим, что все вставилось.\n",
    "    select_all_students(conn)"
   ]
  },
  {
   "cell_type": "markdown",
   "metadata": {
    "id": "kTG6gvJBbP3E",
    "pycharm": {
     "name": "#%% md\n"
    }
   },
   "source": [
    "Все отлично работает!"
   ]
  },
  {
   "cell_type": "code",
   "execution_count": 14,
   "metadata": {
    "id": "ibqB4s1gbP3E",
    "colab": {
     "base_uri": "https://localhost:8080/",
     "height": 294
    },
    "outputId": "2529c0da-30d9-4eb1-e3c0-8dd89aa3e320",
    "pycharm": {
     "name": "#%%\n"
    }
   },
   "outputs": [
    {
     "output_type": "error",
     "ename": "OperationalError",
     "evalue": "ignored",
     "traceback": [
      "\u001B[0;31m---------------------------------------------------------------------------\u001B[0m",
      "\u001B[0;31mOperationalError\u001B[0m                          Traceback (most recent call last)",
      "\u001B[0;32m<ipython-input-14-99feb66b0479>\u001B[0m in \u001B[0;36m<module>\u001B[0;34m\u001B[0m\n\u001B[1;32m      1\u001B[0m \u001B[0;32mwith\u001B[0m \u001B[0msqlite3\u001B[0m\u001B[0;34m.\u001B[0m\u001B[0mconnect\u001B[0m\u001B[0;34m(\u001B[0m\u001B[0;34m'example.db'\u001B[0m\u001B[0;34m)\u001B[0m \u001B[0;32mas\u001B[0m \u001B[0mconn\u001B[0m\u001B[0;34m:\u001B[0m\u001B[0;34m\u001B[0m\u001B[0;34m\u001B[0m\u001B[0m\n\u001B[1;32m      2\u001B[0m     \u001B[0mstudents\u001B[0m \u001B[0;34m=\u001B[0m \u001B[0;34m[\u001B[0m\u001B[0;34m(\u001B[0m\u001B[0;34m'cool'\u001B[0m\u001B[0;34m,\u001B[0m \u001B[0;34m'hacker\", 0, 0); drop table users; --'\u001B[0m\u001B[0;34m)\u001B[0m\u001B[0;34m]\u001B[0m\u001B[0;34m\u001B[0m\u001B[0;34m\u001B[0m\u001B[0m\n\u001B[0;32m----> 3\u001B[0;31m     \u001B[0madd_students\u001B[0m\u001B[0;34m(\u001B[0m\u001B[0mconn\u001B[0m\u001B[0;34m,\u001B[0m \u001B[0mstudents\u001B[0m\u001B[0;34m)\u001B[0m\u001B[0;34m\u001B[0m\u001B[0;34m\u001B[0m\u001B[0m\n\u001B[0m",
      "\u001B[0;32m<ipython-input-10-89d2e9c711b5>\u001B[0m in \u001B[0;36madd_students\u001B[0;34m(conn, students)\u001B[0m\n\u001B[1;32m     12\u001B[0m \u001B[0;34m\u001B[0m\u001B[0m\n\u001B[1;32m     13\u001B[0m     \u001B[0;31m# Исполняет сразу несколько запросов, разделенных ';'\u001B[0m\u001B[0;34m\u001B[0m\u001B[0;34m\u001B[0m\u001B[0;34m\u001B[0m\u001B[0m\n\u001B[0;32m---> 14\u001B[0;31m     \u001B[0mcur\u001B[0m\u001B[0;34m.\u001B[0m\u001B[0mexecutescript\u001B[0m\u001B[0;34m(\u001B[0m\u001B[0;34m''\u001B[0m\u001B[0;34m.\u001B[0m\u001B[0mjoin\u001B[0m\u001B[0;34m(\u001B[0m\u001B[0mqueries\u001B[0m\u001B[0;34m)\u001B[0m\u001B[0;34m)\u001B[0m\u001B[0;34m\u001B[0m\u001B[0;34m\u001B[0m\u001B[0m\n\u001B[0m",
      "\u001B[0;31mOperationalError\u001B[0m: no such table: users"
     ]
    }
   ],
   "source": [
    "with sqlite3.connect('example.db') as conn:\n",
    "    students = [('cool', 'hacker\", 0, 0); drop table users; --')]\n",
    "    add_students(conn, students)"
   ]
  },
  {
   "cell_type": "code",
   "execution_count": 13,
   "metadata": {
    "id": "DATYbQYObP3E",
    "outputId": "b69017ce-2c69-4454-b721-0bffc162562e",
    "colab": {
     "base_uri": "https://localhost:8080/",
     "height": 312
    },
    "pycharm": {
     "name": "#%%\n"
    }
   },
   "outputs": [
    {
     "output_type": "error",
     "ename": "OperationalError",
     "evalue": "ignored",
     "traceback": [
      "\u001B[0;31m---------------------------------------------------------------------------\u001B[0m",
      "\u001B[0;31mOperationalError\u001B[0m                          Traceback (most recent call last)",
      "\u001B[0;32m<ipython-input-13-860e2c506e61>\u001B[0m in \u001B[0;36m<module>\u001B[0;34m\u001B[0m\n\u001B[1;32m      1\u001B[0m \u001B[0;32mwith\u001B[0m \u001B[0msqlite3\u001B[0m\u001B[0;34m.\u001B[0m\u001B[0mconnect\u001B[0m\u001B[0;34m(\u001B[0m\u001B[0;34m'example.db'\u001B[0m\u001B[0;34m)\u001B[0m \u001B[0;32mas\u001B[0m \u001B[0mconn\u001B[0m\u001B[0;34m:\u001B[0m\u001B[0;34m\u001B[0m\u001B[0;34m\u001B[0m\u001B[0m\n\u001B[0;32m----> 2\u001B[0;31m     \u001B[0mselect_all_students\u001B[0m\u001B[0;34m(\u001B[0m\u001B[0mconn\u001B[0m\u001B[0;34m)\u001B[0m\u001B[0;34m\u001B[0m\u001B[0;34m\u001B[0m\u001B[0m\n\u001B[0m",
      "\u001B[0;32m<ipython-input-7-b40fb5a5c38a>\u001B[0m in \u001B[0;36mselect_all_students\u001B[0;34m(conn)\u001B[0m\n\u001B[1;32m      4\u001B[0m                WHERE profile = (SELECT id FROM user_types WHERE name = 'Student')'''\n\u001B[1;32m      5\u001B[0m     \u001B[0mcur\u001B[0m \u001B[0;34m=\u001B[0m \u001B[0mconn\u001B[0m\u001B[0;34m.\u001B[0m\u001B[0mcursor\u001B[0m\u001B[0;34m(\u001B[0m\u001B[0;34m)\u001B[0m\u001B[0;34m\u001B[0m\u001B[0;34m\u001B[0m\u001B[0m\n\u001B[0;32m----> 6\u001B[0;31m     \u001B[0mcur\u001B[0m\u001B[0;34m.\u001B[0m\u001B[0mexecute\u001B[0m\u001B[0;34m(\u001B[0m\u001B[0mquery\u001B[0m\u001B[0;34m)\u001B[0m\u001B[0;34m\u001B[0m\u001B[0;34m\u001B[0m\u001B[0m\n\u001B[0m\u001B[1;32m      7\u001B[0m \u001B[0;34m\u001B[0m\u001B[0m\n\u001B[1;32m      8\u001B[0m     \u001B[0;31m# А лучше просто проитерироваться\u001B[0m\u001B[0;34m\u001B[0m\u001B[0;34m\u001B[0m\u001B[0;34m\u001B[0m\u001B[0m\n",
      "\u001B[0;31mOperationalError\u001B[0m: no such table: users"
     ]
    }
   ],
   "source": [
    "with sqlite3.connect('example.db') as conn:\n",
    "    select_all_students(conn)"
   ]
  },
  {
   "cell_type": "markdown",
   "metadata": {
    "id": "HUihGFZ2bP3E",
    "pycharm": {
     "name": "#%% md\n"
    }
   },
   "source": [
    "Where is my table, Lebowski???"
   ]
  },
  {
   "cell_type": "markdown",
   "metadata": {
    "id": "8XxscXp9bP3F",
    "pycharm": {
     "name": "#%% md\n"
    }
   },
   "source": [
    "<img src=\"https://imgs.xkcd.com/comics/exploits_of_a_mom.png\">"
   ]
  },
  {
   "cell_type": "markdown",
   "source": [
    "[Статья на Хабре про SQL-инъекции](https://habr.com/ru/post/148151/)"
   ],
   "metadata": {
    "id": "TiaFYLlW4p8K",
    "pycharm": {
     "name": "#%% md\n"
    }
   }
  },
  {
   "cell_type": "markdown",
   "metadata": {
    "id": "kN7_oKRCbP3F",
    "pycharm": {
     "name": "#%% md\n"
    }
   },
   "source": [
    "# Работа с <имя вашей любимой базы>\n",
    "\n",
    "Почти ничем не отличается от SQLite.*\n",
    "\n",
    "\\* В случае, если поддержан [Python DB API 2.0](https://www.python.org/dev/peps/pep-0249/)"
   ]
  },
  {
   "cell_type": "markdown",
   "metadata": {
    "id": "LaPblBjAbP3F",
    "pycharm": {
     "name": "#%% md\n"
    }
   },
   "source": [
    "PostgreSQL: [psycopg2](http://initd.org/psycopg/)\n",
    "\n",
    "![](https://drive.google.com/uc?export=view&id=10mbDgilFN2xBziq2syPuFHuJzhLSubHM)"
   ]
  },
  {
   "cell_type": "code",
   "execution_count": 15,
   "metadata": {
    "id": "ec1O0kO4bP3F",
    "pycharm": {
     "name": "#%%\n"
    }
   },
   "outputs": [],
   "source": [
    "try:\n",
    "    import psycopg2\n",
    "except:\n",
    "    !pip install psycopg2-binary"
   ]
  },
  {
   "cell_type": "code",
   "execution_count": null,
   "metadata": {
    "id": "BTvjg80Qj1VW",
    "outputId": "37360c51-daf8-49c4-a67e-423b1d91bd0b",
    "pycharm": {
     "name": "#%%\n"
    }
   },
   "outputs": [
    {
     "name": "stdout",
     "output_type": "stream",
     "text": [
      "('Hello, world!', 42)\n"
     ]
    }
   ],
   "source": [
    "# Поменялся способ подключения. \n",
    "# Теперь указываем не файл, а хост, базу, пользователя и пароль.\n",
    "# Чтобы это работало, должен быть запущен psqld.\n",
    "# Также нужно создать пользователя с паролем и базу.\n",
    "with psycopg2.connect(dbname='testdb', user='testuser', \n",
    "                      host='localhost', password='testuser') as conn:\n",
    "    \n",
    "    # А остальной интерфейс сохранился.\n",
    "    cur = conn.cursor()\n",
    "    cur.execute(\"select 'Hello, world!', 6 * 7\")\n",
    "    print(cur.fetchone())"
   ]
  },
  {
   "cell_type": "markdown",
   "metadata": {
    "id": "vjZQOcRUbP3G",
    "pycharm": {
     "name": "#%% md\n"
    }
   },
   "source": [
    "[Как установить PostgreSQL в Ubuntu и добавить пользователя](https://www.digitalocean.com/community/tutorials/postgresql-ubuntu-16-04-ru#создание-новой-роли)"
   ]
  },
  {
   "cell_type": "markdown",
   "metadata": {
    "id": "hOsf-7i0bP3G",
    "pycharm": {
     "name": "#%% md\n"
    }
   },
   "source": [
    "Создадим таблички"
   ]
  },
  {
   "cell_type": "code",
   "execution_count": null,
   "metadata": {
    "id": "YlLtAMpRbP3G",
    "pycharm": {
     "name": "#%%\n"
    }
   },
   "outputs": [],
   "source": [
    "with psycopg2.connect(dbname='testdb', user='testuser',\n",
    "                      host='localhost', password='testuser') as conn:\n",
    "    \n",
    "    cur = conn.cursor()\n",
    "    \n",
    "    # Удалим старые таблицы, если есть.\n",
    "    cur.execute('DROP TABLE IF EXISTS users')\n",
    "    cur.execute('DROP TABLE IF EXISTS user_types')\n",
    "    \n",
    "    # SQL диалект может немного меняться\n",
    "    # Используем тип SERIAL вместо свойстав AUTOINCREMENT\n",
    "    cur.execute('''\n",
    "        CREATE TABLE user_types (\n",
    "            id SERIAL PRIMARY KEY,\n",
    "            name VARCHAR(255)\n",
    "        )\n",
    "    ''')\n",
    "    cur.execute('''\n",
    "        CREATE TABLE users (\n",
    "            id SERIAL PRIMARY KEY,\n",
    "            first_name VARCHAR(255),\n",
    "            last_name VARCHAR(255),\n",
    "            active BOOLEAN,\n",
    "            profile INTEGER,\n",
    "            FOREIGN KEY(profile) REFERENCES user_types(id)\n",
    "        )\n",
    "    ''')"
   ]
  },
  {
   "cell_type": "markdown",
   "metadata": {
    "id": "pfxdhYmHbP3G",
    "pycharm": {
     "name": "#%% md\n"
    }
   },
   "source": [
    "Многие запросы работают без изменений."
   ]
  },
  {
   "cell_type": "code",
   "execution_count": null,
   "metadata": {
    "id": "7NJHRYqobP3G",
    "outputId": "3114c7da-53bf-4875-e95e-6c5946e18e67",
    "pycharm": {
     "name": "#%%\n"
    }
   },
   "outputs": [
    {
     "name": "stdout",
     "output_type": "stream",
     "text": [
      "Ivan Ivanov\n",
      "Petr Petrov\n",
      "Petr Sidorov\n"
     ]
    }
   ],
   "source": [
    "with psycopg2.connect(dbname='testdb', user='testuser',\n",
    "                      host='localhost', password='testuser') as conn:\n",
    "    cur = conn.cursor()\n",
    "    \n",
    "    add_user_types(cur)\n",
    "    add_teachers(cur)\n",
    "    add_students(cur)\n",
    "    conn.commit()\n",
    "    \n",
    "    select_all_students(conn)"
   ]
  },
  {
   "cell_type": "markdown",
   "metadata": {
    "id": "UV7Wf9eCZMjY",
    "pycharm": {
     "name": "#%% md\n"
    }
   },
   "source": [
    "# ORM\n",
    "\n",
    "**ORM (Object-Relational Mapping)** — технология программирования, которая\n",
    "связывает базы данных с концепциями объектно-ориентированных языков\n",
    "программирования, создавая «виртуальную объектную базу данных». Существует\n",
    "множество вариантов реализации этой технологии.\n",
    "\n",
    "## Задача\n",
    "\n",
    "Необходимо обеспечить работу с данными в терминах классов, а не таблиц данных и напротив, преобразовать термины и данные классов в данные, пригодные для хранения в СУБД. Необходимо также обеспечить интерфейс для CRUD-операций над данными. В общем, необходимо избавиться от необходимости писать SQL-код для взаимодействия в СУБД.\n",
    "\n",
    "## Решение\n",
    "\n",
    "Решение **проблемы хранения** существует — это реляционные СУБД. Но их использование для хранения объектно-ориентированных данных приводит к семантическому разрыву, заставляя программистов писать программное обеспечение, которое должно уметь как обрабатывать данные в объектно- ориентированном виде, так и уметь сохранить эти данные в реляционной форме.\n",
    "\n",
    "Разработано множество пакетов, устраняющих необходимость в преобразовании объектов для хранения в реляционных базах данных.\n",
    "С точки зрения программиста система должна выглядеть как постоянное хранилище объектов. Он может просто создавать объекты и работать с ними как обычно, а они автоматически будут сохраняться в реляционной базе данных."
   ]
  },
  {
   "cell_type": "markdown",
   "metadata": {
    "id": "KM6OSWPpZMjY",
    "pycharm": {
     "name": "#%% md\n"
    }
   },
   "source": [
    "## Peewee\n",
    "\n",
    "http://docs.peewee-orm.com/en/latest/"
   ]
  },
  {
   "cell_type": "code",
   "execution_count": null,
   "metadata": {
    "id": "-3CCNPtjZMjY",
    "pycharm": {
     "name": "#%%\n"
    }
   },
   "outputs": [],
   "source": [
    "try:\n",
    "    from peewee import *\n",
    "except:\n",
    "    !pip install peewee\n",
    "    from peewee import *\n",
    "\n",
    "db = PostgresqlDatabase(database='postgres', user='merkureva',\n",
    "                        password='1234', host='localhost')"
   ]
  },
  {
   "cell_type": "code",
   "execution_count": null,
   "metadata": {
    "id": "VXbcysP5ZMjZ",
    "pycharm": {
     "name": "#%%\n"
    }
   },
   "outputs": [],
   "source": [
    "class Person(Model):\n",
    "    name = CharField()\n",
    "    birthday = DateField()\n",
    "    is_relative = BooleanField()\n",
    "    \n",
    "    # другие типы полей:   https://peewee.readthedocs.io/en/latest/peewee/models.html#field-types-table\n",
    "    \n",
    "    class Meta:\n",
    "        database = db # модель будет использовать базу данных 'postgres'"
   ]
  },
  {
   "cell_type": "markdown",
   "metadata": {
    "id": "qLomXOEVZMjZ",
    "pycharm": {
     "name": "#%% md\n"
    }
   },
   "source": [
    "Инициализирующие аргументы:\n",
    "- *null=False* – возможно ли хранение null-значений;\n",
    "- *index=False* – создавать ли индекс для данного столбца в базе;\n",
    "- *unique=False* – создавать ли уникальный индекс для данного столбца в базе.\n",
    "- *verbose_name=None* – строка для человекопонятного представления поля;\n",
    "- *help_text=None* – строка с вспомогательным текстом для поля;\n",
    "- *db_column=None* – строка, явно задающая название столбца в базе для данного поля, используется например при работе с legacy-базой данных;\n",
    "- *default=None* – значение по умолчанию для полей класса при инстанцировании;\n",
    "- *choices=None* – список или кортеж двухэлементных кортежей, где первый элемент – значение для базы, второй – отображаемое значение (аналогично джанге);\n",
    "- *primary_key=False* – использовать ли данное поле, как первичный ключ;"
   ]
  },
  {
   "cell_type": "code",
   "execution_count": null,
   "metadata": {
    "id": "atpUtHqlZMjZ",
    "pycharm": {
     "name": "#%%\n"
    }
   },
   "outputs": [],
   "source": [
    "class Pet(Model):\n",
    "    owner = ForeignKeyField(Person, backref='pets')\n",
    "    name = CharField()\n",
    "    animal_type = CharField()\n",
    "    \n",
    "    class Meta:\n",
    "        database = db # модель будет использовать базу данных 'postgres'"
   ]
  },
  {
   "cell_type": "code",
   "execution_count": null,
   "metadata": {
    "id": "1ORFMtk5ZMjZ",
    "pycharm": {
     "name": "#%%\n"
    }
   },
   "outputs": [],
   "source": [
    "# Создаем таблицы в базе со всеми нужными колонками,\n",
    "# ключами и сиквенсами (если они нужны)\n",
    "Person.create_table()\n",
    "Pet.create_table()"
   ]
  },
  {
   "cell_type": "code",
   "execution_count": null,
   "metadata": {
    "id": "xkHKnBt-ZMjZ",
    "outputId": "33d1995e-6cd4-4d81-bff5-9153b7a3f7d1",
    "pycharm": {
     "name": "#%%\n"
    }
   },
   "outputs": [
    {
     "data": {
      "text/plain": [
       "1"
      ]
     },
     "execution_count": 22,
     "metadata": {},
     "output_type": "execute_result"
    }
   ],
   "source": [
    "from datetime import date\n",
    "\n",
    "\n",
    "uncle_bob = Person(name='Bob', birthday=date(1960, 1, 15),\n",
    "                    is_relative=True)\n",
    "uncle_bob.save() # cохраним Боба в базе данных\n",
    "\n",
    "grandma = Person.create(name='Grandma', birthday=date(1935, 3, 1),\n",
    "                    is_relative=True)\n",
    "herb = Person.create(name='Herb', birthday=date(1950, 5, 5),\n",
    "                    is_relative=False)\n",
    "\n",
    "grandma.name = 'Grandma L.'\n",
    "\n",
    "grandma.save() # обновим запись grandma"
   ]
  },
  {
   "cell_type": "code",
   "execution_count": null,
   "metadata": {
    "id": "WBm46nHOZMja",
    "pycharm": {
     "name": "#%%\n"
    }
   },
   "outputs": [],
   "source": [
    "bob_kitty = Pet.create(owner=uncle_bob, name='Kitty', animal_type='cat')\n",
    "herb_fido = Pet.create(owner=herb, name='Fido', animal_type='dog')\n",
    "herb_mittens = Pet.create(owner=herb, name='Mittens', animal_type='cat')\n",
    "herb_mittens_jr = Pet.create(owner=herb, name='Mittens Jr', animal_type='cat')"
   ]
  },
  {
   "cell_type": "code",
   "execution_count": null,
   "metadata": {
    "id": "y5z0YTt4ZMja",
    "outputId": "f5bb1042-8bfd-4a59-a890-7bc745151e13",
    "pycharm": {
     "name": "#%%\n"
    }
   },
   "outputs": [
    {
     "data": {
      "text/plain": [
       "'Grandma L.'"
      ]
     },
     "execution_count": 24,
     "metadata": {},
     "output_type": "execute_result"
    }
   ],
   "source": [
    "grandma = Person.select().where(Person.name == 'Grandma L.').get()\n",
    "grandma.name"
   ]
  },
  {
   "cell_type": "code",
   "execution_count": null,
   "metadata": {
    "id": "tJUU4NBMZMja",
    "outputId": "066ce7cb-f939-476f-8cd8-a2566dbd95ef",
    "pycharm": {
     "name": "#%%\n"
    }
   },
   "outputs": [
    {
     "data": {
      "text/plain": [
       "'Grandma L.'"
      ]
     },
     "execution_count": 25,
     "metadata": {},
     "output_type": "execute_result"
    }
   ],
   "source": [
    "grandma = Person.get(Person.name == 'Grandma L.')\n",
    "grandma.name"
   ]
  },
  {
   "cell_type": "code",
   "execution_count": null,
   "metadata": {
    "id": "AL91OJc9ZMja",
    "outputId": "721958de-cf07-4828-d6c5-712ee34706da",
    "pycharm": {
     "name": "#%%\n"
    }
   },
   "outputs": [
    {
     "name": "stdout",
     "output_type": "stream",
     "text": [
      "Bob True\n",
      "Herb False\n",
      "Grandma L. True\n"
     ]
    }
   ],
   "source": [
    "for person in Person.select():\n",
    "    print(person.name, person.is_relative)"
   ]
  },
  {
   "cell_type": "code",
   "execution_count": null,
   "metadata": {
    "id": "fTZpSRQ1ZMja",
    "outputId": "ed806785-a844-4561-87d8-078fe14a448f",
    "pycharm": {
     "name": "#%%\n"
    }
   },
   "outputs": [
    {
     "name": "stdout",
     "output_type": "stream",
     "text": [
      "Bob 1 pets\n",
      "  Kitty cat\n",
      "Herb 3 pets\n",
      "  Fido dog\n",
      "  Mittens cat\n",
      "  Mittens Jr cat\n",
      "Grandma L. 0 pets\n"
     ]
    }
   ],
   "source": [
    "for person in Person.select():\n",
    "    print(person.name, person.pets.count(), 'pets')\n",
    "    for pet in person.pets:\n",
    "        print (' ', pet.name, pet.animal_type)"
   ]
  },
  {
   "cell_type": "code",
   "execution_count": null,
   "metadata": {
    "id": "k1BIBxf9ZMjb",
    "outputId": "590a493a-3ca8-4d39-d21d-4cffe50e8065",
    "pycharm": {
     "name": "#%%\n"
    }
   },
   "outputs": [
    {
     "data": {
      "text/plain": [
       "1"
      ]
     },
     "execution_count": 28,
     "metadata": {},
     "output_type": "execute_result"
    }
   ],
   "source": [
    "herb_mittens.delete_instance()\n",
    "herb_fido.owner = uncle_bob\n",
    "herb_fido.save()"
   ]
  },
  {
   "cell_type": "code",
   "execution_count": null,
   "metadata": {
    "id": "G9TjrfoZZMjb",
    "outputId": "7962eef7-3319-49b1-f73f-fbd51eb8df4d",
    "pycharm": {
     "name": "#%%\n"
    }
   },
   "outputs": [
    {
     "name": "stdout",
     "output_type": "stream",
     "text": [
      "Bob 2 pets\n",
      "  Kitty cat\n",
      "  Fido dog\n",
      "Herb 1 pets\n",
      "  Mittens Jr cat\n",
      "Grandma L. 0 pets\n"
     ]
    }
   ],
   "source": [
    "# агрегация значений\n",
    "for person in Person.select():\n",
    "    print(person.name, person.pets.count(), 'pets')\n",
    "    for pet in person.pets:\n",
    "        print (' ', pet.name, pet.animal_type)"
   ]
  },
  {
   "cell_type": "code",
   "execution_count": null,
   "metadata": {
    "id": "hG9ip27rZMjb",
    "outputId": "c916e183-b2f6-4e76-e4ae-057682c15ead",
    "pycharm": {
     "name": "#%%\n"
    }
   },
   "outputs": [
    {
     "name": "stdout",
     "output_type": "stream",
     "text": [
      "Kitty Bob\n",
      "Mittens Jr Herb\n"
     ]
    }
   ],
   "source": [
    "query = Pet.select().where(Pet.animal_type == 'cat')\n",
    "for pet in query:\n",
    "    print(pet.name, pet.owner.name)"
   ]
  },
  {
   "cell_type": "code",
   "execution_count": null,
   "metadata": {
    "id": "URzVW4m4ZMjb",
    "outputId": "05ff1161-097c-48cf-e8b4-d488b3bbd7f6",
    "pycharm": {
     "name": "#%%\n"
    }
   },
   "outputs": [
    {
     "name": "stdout",
     "output_type": "stream",
     "text": [
      "Kitty Bob\n",
      "Mittens Jr Herb\n"
     ]
    }
   ],
   "source": [
    "query = (Pet\n",
    "         .select(Pet, Person)\n",
    "         .join(Person)\n",
    "         .where(Pet.animal_type == 'cat'))\n",
    "\n",
    "for pet in query:\n",
    "    print(pet.name, pet.owner.name)"
   ]
  },
  {
   "cell_type": "code",
   "execution_count": null,
   "metadata": {
    "id": "LITpsGJ2ZMjb",
    "outputId": "6b226fb5-e1ef-4cb4-d353-b9af4be378dc",
    "pycharm": {
     "name": "#%%\n"
    }
   },
   "outputs": [
    {
     "name": "stdout",
     "output_type": "stream",
     "text": [
      "Kitty\n",
      "Fido\n"
     ]
    }
   ],
   "source": [
    "for pet in Pet.select().join(Person).where(Person.name == 'Bob'):\n",
    "    print(pet.name)"
   ]
  },
  {
   "cell_type": "code",
   "execution_count": null,
   "metadata": {
    "id": "OsKT23PaZMjb",
    "outputId": "7e5285bf-bd9f-487d-9fb5-c41a641b38f7",
    "pycharm": {
     "name": "#%%\n"
    }
   },
   "outputs": [
    {
     "name": "stdout",
     "output_type": "stream",
     "text": [
      "Bob\n",
      "Herb\n",
      "Grandma L.\n"
     ]
    }
   ],
   "source": [
    "for person in Person.select().order_by(Person.birthday.desc()):\n",
    "    print(person.name)"
   ]
  },
  {
   "cell_type": "code",
   "execution_count": null,
   "metadata": {
    "id": "acArogPSZMjb",
    "outputId": "b5ea5dfc-f4bf-4ed6-db35-678615fe5e55",
    "pycharm": {
     "name": "#%%\n"
    }
   },
   "outputs": [
    {
     "name": "stdout",
     "output_type": "stream",
     "text": [
      "Bob 1960-01-15\n",
      "Grandma L. 1935-03-01\n"
     ]
    }
   ],
   "source": [
    "# Используем сложное условие в запросе\n",
    "d1940 = date(1940, 1, 1)\n",
    "d1960 = date(1960, 1, 1)\n",
    "query = (Person\n",
    "         .select()\n",
    "         .where((Person.birthday < d1940) | (Person.birthday > d1960)))\n",
    "\n",
    "for person in query:\n",
    "    print(person.name, person.birthday)"
   ]
  },
  {
   "cell_type": "code",
   "execution_count": null,
   "metadata": {
    "id": "r_-u3Rk1ZMjc",
    "outputId": "4084eec4-c634-48a7-ed13-3e40fa4ba150",
    "pycharm": {
     "name": "#%%\n"
    }
   },
   "outputs": [
    {
     "name": "stdout",
     "output_type": "stream",
     "text": [
      "Herb 1950-05-05\n"
     ]
    }
   ],
   "source": [
    "query = (Person\n",
    "         .select()\n",
    "         .where(Person.birthday.between(d1940, d1960)))\n",
    "\n",
    "for person in query:\n",
    "    print(person.name, person.birthday)"
   ]
  },
  {
   "cell_type": "code",
   "execution_count": null,
   "metadata": {
    "id": "YqcDFAjSZMjc",
    "outputId": "884bc609-729c-433c-ef0a-a0fb454e5656",
    "pycharm": {
     "name": "#%%\n"
    }
   },
   "outputs": [
    {
     "name": "stdout",
     "output_type": "stream",
     "text": [
      "Bob 2 pets\n",
      "Grandma L. 0 pets\n",
      "Herb 1 pets\n"
     ]
    }
   ],
   "source": [
    "# соединение нескольких таблиц\n",
    "query = (Person\n",
    "         .select(Person, fn.COUNT(Pet.id).alias('pet_count'))\n",
    "         .join(Pet, JOIN.LEFT_OUTER)  # не исключаем людей без животных\n",
    "         .group_by(Person)\n",
    "         .order_by(Person.name))\n",
    "\n",
    "for person in query:\n",
    "    print(person.name, person.pet_count, 'pets')"
   ]
  },
  {
   "cell_type": "code",
   "execution_count": null,
   "metadata": {
    "id": "xiqbrSFsZMjc",
    "outputId": "50ff6ea4-84fb-49a7-d3d3-af679243507f",
    "pycharm": {
     "name": "#%%\n"
    }
   },
   "outputs": [
    {
     "data": {
      "text/plain": [
       "True"
      ]
     },
     "execution_count": 39,
     "metadata": {},
     "output_type": "execute_result"
    }
   ],
   "source": [
    "db.close()"
   ]
  },
  {
   "cell_type": "markdown",
   "metadata": {
    "id": "p7siB6RpbP3H",
    "pycharm": {
     "name": "#%% md\n"
    }
   },
   "source": [
    "## [SQLAlchemy](https://www.sqlalchemy.org/)"
   ]
  },
  {
   "cell_type": "markdown",
   "metadata": {
    "id": "HXfZ6P9XbP3H",
    "pycharm": {
     "name": "#%% md\n"
    }
   },
   "source": [
    "![](https://drive.google.com/uc?export=view&id=1g55PgKhzPXljV4uMAYpDPXjhYHpdw9tr)"
   ]
  },
  {
   "cell_type": "code",
   "execution_count": null,
   "metadata": {
    "id": "7UmGFL40bP3H",
    "pycharm": {
     "name": "#%%\n"
    }
   },
   "outputs": [],
   "source": [
    "import sqlalchemy\n",
    "from sqlalchemy import create_engine"
   ]
  },
  {
   "cell_type": "code",
   "execution_count": null,
   "metadata": {
    "id": "6RwFfG9JbP3H",
    "pycharm": {
     "name": "#%%\n"
    }
   },
   "outputs": [],
   "source": [
    "engine = create_engine('sqlite:///example_alchemy.db', echo=True)\n",
    "# engine = create_engine('sqlite:///:memory:', echo=True)\n",
    "\n",
    "# echo=True - для дополнительного логгирования"
   ]
  },
  {
   "cell_type": "markdown",
   "metadata": {
    "id": "mraYRAY7bP3H",
    "pycharm": {
     "name": "#%% md\n"
    }
   },
   "source": [
    "#### Опишем данные, которые хотим хранить"
   ]
  },
  {
   "cell_type": "code",
   "execution_count": null,
   "metadata": {
    "id": "24VQ_LsibP3I",
    "pycharm": {
     "name": "#%%\n"
    }
   },
   "outputs": [],
   "source": [
    "from sqlalchemy.ext.declarative import declarative_base\n",
    "from sqlalchemy import Column, Integer, String, Boolean, ForeignKey\n",
    "from sqlalchemy.orm import relationship\n",
    "\n",
    "Base = declarative_base()\n",
    "\n",
    "class UserType(Base):\n",
    "    __tablename__ = 'user_types'\n",
    "    \n",
    "    id = Column(Integer, primary_key=True)\n",
    "    name = Column(String)\n",
    "    users = relationship(\"User\")\n",
    "    \n",
    "    def __repr__(self):\n",
    "        return \"<UserType(name={})>\".format(self.name)  \n",
    "\n",
    "class User(Base):\n",
    "    __tablename__ = 'users'\n",
    "    \n",
    "    id = Column(Integer, primary_key=True)\n",
    "    first_name = Column(String)\n",
    "    last_name = Column(String)\n",
    "    active = Column(Boolean)\n",
    "    profile_id = Column(Integer, ForeignKey('user_types.id'))\n",
    "    profile = relationship(\"UserType\", back_populates=\"users\")\n",
    "    \n",
    "    def __repr__(self):\n",
    "        return \"<User(first_name={}, last_name={}, active={})>\"\\\n",
    "            .format(self.first_name, self.last_name, self.active)\n",
    "    "
   ]
  },
  {
   "cell_type": "code",
   "execution_count": null,
   "metadata": {
    "id": "FF10QT7hbP3I",
    "outputId": "453f5e0c-668d-4de4-9577-6e5a23d5cd70",
    "pycharm": {
     "name": "#%%\n"
    }
   },
   "outputs": [
    {
     "data": {
      "text/plain": [
       "Table('users', MetaData(bind=None), Column('id', Integer(), table=<users>, primary_key=True, nullable=False), Column('first_name', String(), table=<users>), Column('last_name', String(), table=<users>), Column('active', Boolean(), table=<users>), Column('profile_id', Integer(), ForeignKey('user_types.id'), table=<users>), schema=None)"
      ]
     },
     "execution_count": 4,
     "metadata": {},
     "output_type": "execute_result"
    }
   ],
   "source": [
    "User.__table__"
   ]
  },
  {
   "cell_type": "markdown",
   "metadata": {
    "id": "0LjDnbl2bP3I",
    "pycharm": {
     "name": "#%% md\n"
    }
   },
   "source": [
    "#### Создадим таблицы в базе"
   ]
  },
  {
   "cell_type": "code",
   "execution_count": null,
   "metadata": {
    "id": "dX9PDKombP3I",
    "outputId": "09bcb137-0506-45e5-9f15-58f4f6210e97",
    "pycharm": {
     "name": "#%%\n"
    }
   },
   "outputs": [
    {
     "name": "stdout",
     "output_type": "stream",
     "text": [
      "2019-04-07 00:51:55,800 INFO sqlalchemy.engine.base.Engine SELECT CAST('test plain returns' AS VARCHAR(60)) AS anon_1\n",
      "2019-04-07 00:51:55,801 INFO sqlalchemy.engine.base.Engine ()\n",
      "2019-04-07 00:51:55,802 INFO sqlalchemy.engine.base.Engine SELECT CAST('test unicode returns' AS VARCHAR(60)) AS anon_1\n",
      "2019-04-07 00:51:55,802 INFO sqlalchemy.engine.base.Engine ()\n",
      "2019-04-07 00:51:55,803 INFO sqlalchemy.engine.base.Engine PRAGMA table_info(\"user_types\")\n",
      "2019-04-07 00:51:55,803 INFO sqlalchemy.engine.base.Engine ()\n",
      "2019-04-07 00:51:55,804 INFO sqlalchemy.engine.base.Engine PRAGMA table_info(\"users\")\n",
      "2019-04-07 00:51:55,804 INFO sqlalchemy.engine.base.Engine ()\n",
      "2019-04-07 00:51:55,805 INFO sqlalchemy.engine.base.Engine \n",
      "CREATE TABLE user_types (\n",
      "\tid INTEGER NOT NULL, \n",
      "\tname VARCHAR, \n",
      "\tPRIMARY KEY (id)\n",
      ")\n",
      "\n",
      "\n",
      "2019-04-07 00:51:55,805 INFO sqlalchemy.engine.base.Engine ()\n",
      "2019-04-07 00:51:55,811 INFO sqlalchemy.engine.base.Engine COMMIT\n",
      "2019-04-07 00:51:55,813 INFO sqlalchemy.engine.base.Engine \n",
      "CREATE TABLE users (\n",
      "\tid INTEGER NOT NULL, \n",
      "\tfirst_name VARCHAR, \n",
      "\tlast_name VARCHAR, \n",
      "\tactive BOOLEAN, \n",
      "\tprofile_id INTEGER, \n",
      "\tPRIMARY KEY (id), \n",
      "\tCHECK (active IN (0, 1)), \n",
      "\tFOREIGN KEY(profile_id) REFERENCES user_types (id)\n",
      ")\n",
      "\n",
      "\n",
      "2019-04-07 00:51:55,813 INFO sqlalchemy.engine.base.Engine ()\n",
      "2019-04-07 00:51:55,817 INFO sqlalchemy.engine.base.Engine COMMIT\n"
     ]
    }
   ],
   "source": [
    "Base.metadata.create_all(engine)"
   ]
  },
  {
   "cell_type": "markdown",
   "metadata": {
    "id": "xwevC15SbP3I",
    "pycharm": {
     "name": "#%% md\n"
    }
   },
   "source": [
    "Вставим данные"
   ]
  },
  {
   "cell_type": "code",
   "execution_count": null,
   "metadata": {
    "id": "MaWxaiyNbP3J",
    "outputId": "d8a4cdf5-2aca-4ef8-be1f-5e6db083ad6f",
    "pycharm": {
     "name": "#%%\n"
    }
   },
   "outputs": [
    {
     "name": "stdout",
     "output_type": "stream",
     "text": [
      "2019-04-07 00:51:56,986 INFO sqlalchemy.engine.base.Engine BEGIN (implicit)\n",
      "2019-04-07 00:51:56,987 INFO sqlalchemy.engine.base.Engine INSERT INTO user_types (name) VALUES (?)\n",
      "2019-04-07 00:51:56,987 INFO sqlalchemy.engine.base.Engine ('teacher',)\n",
      "2019-04-07 00:51:56,989 INFO sqlalchemy.engine.base.Engine INSERT INTO user_types (name) VALUES (?)\n",
      "2019-04-07 00:51:56,989 INFO sqlalchemy.engine.base.Engine ('student',)\n",
      "2019-04-07 00:51:56,990 INFO sqlalchemy.engine.base.Engine COMMIT\n"
     ]
    }
   ],
   "source": [
    "from sqlalchemy.orm import sessionmaker\n",
    "\n",
    "Session = sessionmaker(bind=engine)\n",
    "session = Session()\n",
    "\n",
    "teacher = UserType(name='teacher')\n",
    "session.add(teacher)\n",
    "\n",
    "student = UserType(name='student')\n",
    "session.add(student)\n",
    "\n",
    "session.commit()"
   ]
  },
  {
   "cell_type": "markdown",
   "metadata": {
    "id": "raACQ-JibP3J",
    "pycharm": {
     "name": "#%% md\n"
    }
   },
   "source": [
    "Найдем тип учителя в базе"
   ]
  },
  {
   "cell_type": "code",
   "execution_count": null,
   "metadata": {
    "id": "kGnE5jgpbP3J",
    "outputId": "a1d2a19e-98f0-4566-91d2-fc47cc4b6698",
    "pycharm": {
     "name": "#%%\n"
    }
   },
   "outputs": [
    {
     "name": "stdout",
     "output_type": "stream",
     "text": [
      "2019-04-07 00:52:15,470 INFO sqlalchemy.engine.base.Engine BEGIN (implicit)\n",
      "2019-04-07 00:52:15,471 INFO sqlalchemy.engine.base.Engine SELECT user_types.id AS user_types_id, user_types.name AS user_types_name \n",
      "FROM user_types \n",
      "WHERE user_types.name = ?\n",
      " LIMIT ? OFFSET ?\n",
      "2019-04-07 00:52:15,471 INFO sqlalchemy.engine.base.Engine ('teacher', 1, 0)\n"
     ]
    },
    {
     "data": {
      "text/plain": [
       "<UserType(name=teacher)>"
      ]
     },
     "execution_count": 7,
     "metadata": {},
     "output_type": "execute_result"
    }
   ],
   "source": [
    "res = session.query(UserType).filter_by(name='teacher').first() \n",
    "res"
   ]
  },
  {
   "cell_type": "code",
   "execution_count": null,
   "metadata": {
    "id": "aDwlXMY8bP3J",
    "outputId": "d3cc907d-78bb-4c79-bab5-cb49bf5a3222",
    "pycharm": {
     "name": "#%%\n"
    }
   },
   "outputs": [
    {
     "data": {
      "text/plain": [
       "True"
      ]
     },
     "execution_count": 8,
     "metadata": {},
     "output_type": "execute_result"
    }
   ],
   "source": [
    "teacher is res"
   ]
  },
  {
   "cell_type": "markdown",
   "metadata": {
    "id": "REaWSWfBbP3K",
    "pycharm": {
     "name": "#%% md\n"
    }
   },
   "source": [
    "one vs first"
   ]
  },
  {
   "cell_type": "code",
   "execution_count": null,
   "metadata": {
    "id": "mo0a_RBhbP3K",
    "outputId": "869b96d7-4462-4f80-deb3-efe19cc1c439",
    "pycharm": {
     "name": "#%%\n"
    }
   },
   "outputs": [
    {
     "name": "stdout",
     "output_type": "stream",
     "text": [
      "2019-04-07 00:52:17,544 INFO sqlalchemy.engine.base.Engine SELECT user_types.id AS user_types_id, user_types.name AS user_types_name \n",
      "FROM user_types \n",
      "WHERE user_types.name = ?\n",
      "2019-04-07 00:52:17,545 INFO sqlalchemy.engine.base.Engine ('teacher12',)\n"
     ]
    },
    {
     "ename": "NoResultFound",
     "evalue": "No row was found for one()",
     "output_type": "error",
     "traceback": [
      "\u001B[0;31m---------------------------------------------------------------------------\u001B[0m",
      "\u001B[0;31mNoResultFound\u001B[0m                             Traceback (most recent call last)",
      "\u001B[0;32m<ipython-input-9-8fbb4c47e40b>\u001B[0m in \u001B[0;36m<module>\u001B[0;34m\u001B[0m\n\u001B[0;32m----> 1\u001B[0;31m \u001B[0msession\u001B[0m\u001B[0;34m.\u001B[0m\u001B[0mquery\u001B[0m\u001B[0;34m(\u001B[0m\u001B[0mUserType\u001B[0m\u001B[0;34m)\u001B[0m\u001B[0;34m.\u001B[0m\u001B[0mfilter_by\u001B[0m\u001B[0;34m(\u001B[0m\u001B[0mname\u001B[0m\u001B[0;34m=\u001B[0m\u001B[0;34m'teacher12'\u001B[0m\u001B[0;34m)\u001B[0m\u001B[0;34m.\u001B[0m\u001B[0mone\u001B[0m\u001B[0;34m(\u001B[0m\u001B[0;34m)\u001B[0m\u001B[0;34m\u001B[0m\u001B[0;34m\u001B[0m\u001B[0m\n\u001B[0m",
      "\u001B[0;32m~/anaconda3/lib/python3.7/site-packages/sqlalchemy/orm/query.py\u001B[0m in \u001B[0;36mone\u001B[0;34m(self)\u001B[0m\n\u001B[1;32m   2958\u001B[0m         \u001B[0;32melse\u001B[0m\u001B[0;34m:\u001B[0m\u001B[0;34m\u001B[0m\u001B[0;34m\u001B[0m\u001B[0m\n\u001B[1;32m   2959\u001B[0m             \u001B[0;32mif\u001B[0m \u001B[0mret\u001B[0m \u001B[0;32mis\u001B[0m \u001B[0;32mNone\u001B[0m\u001B[0;34m:\u001B[0m\u001B[0;34m\u001B[0m\u001B[0;34m\u001B[0m\u001B[0m\n\u001B[0;32m-> 2960\u001B[0;31m                 \u001B[0;32mraise\u001B[0m \u001B[0morm_exc\u001B[0m\u001B[0;34m.\u001B[0m\u001B[0mNoResultFound\u001B[0m\u001B[0;34m(\u001B[0m\u001B[0;34m\"No row was found for one()\"\u001B[0m\u001B[0;34m)\u001B[0m\u001B[0;34m\u001B[0m\u001B[0;34m\u001B[0m\u001B[0m\n\u001B[0m\u001B[1;32m   2961\u001B[0m             \u001B[0;32mreturn\u001B[0m \u001B[0mret\u001B[0m\u001B[0;34m\u001B[0m\u001B[0;34m\u001B[0m\u001B[0m\n\u001B[1;32m   2962\u001B[0m \u001B[0;34m\u001B[0m\u001B[0m\n",
      "\u001B[0;31mNoResultFound\u001B[0m: No row was found for one()"
     ]
    }
   ],
   "source": [
    "session.query(UserType).filter_by(name='teacher12').one() "
   ]
  },
  {
   "cell_type": "code",
   "execution_count": null,
   "metadata": {
    "id": "w6oG8OEFbP3K",
    "outputId": "4837bd2b-ea16-467e-afc7-573260880e3c",
    "pycharm": {
     "name": "#%%\n"
    }
   },
   "outputs": [
    {
     "name": "stdout",
     "output_type": "stream",
     "text": [
      "2019-04-07 00:52:20,111 INFO sqlalchemy.engine.base.Engine SELECT user_types.id AS user_types_id, user_types.name AS user_types_name \n",
      "FROM user_types\n",
      "2019-04-07 00:52:20,112 INFO sqlalchemy.engine.base.Engine ()\n"
     ]
    },
    {
     "ename": "MultipleResultsFound",
     "evalue": "Multiple rows were found for one()",
     "output_type": "error",
     "traceback": [
      "\u001B[0;31m---------------------------------------------------------------------------\u001B[0m",
      "\u001B[0;31mMultipleResultsFound\u001B[0m                      Traceback (most recent call last)",
      "\u001B[0;32m~/anaconda3/lib/python3.7/site-packages/sqlalchemy/orm/query.py\u001B[0m in \u001B[0;36mone\u001B[0;34m(self)\u001B[0m\n\u001B[1;32m   2953\u001B[0m         \u001B[0;32mtry\u001B[0m\u001B[0;34m:\u001B[0m\u001B[0;34m\u001B[0m\u001B[0;34m\u001B[0m\u001B[0m\n\u001B[0;32m-> 2954\u001B[0;31m             \u001B[0mret\u001B[0m \u001B[0;34m=\u001B[0m \u001B[0mself\u001B[0m\u001B[0;34m.\u001B[0m\u001B[0mone_or_none\u001B[0m\u001B[0;34m(\u001B[0m\u001B[0;34m)\u001B[0m\u001B[0;34m\u001B[0m\u001B[0;34m\u001B[0m\u001B[0m\n\u001B[0m\u001B[1;32m   2955\u001B[0m         \u001B[0;32mexcept\u001B[0m \u001B[0morm_exc\u001B[0m\u001B[0;34m.\u001B[0m\u001B[0mMultipleResultsFound\u001B[0m\u001B[0;34m:\u001B[0m\u001B[0;34m\u001B[0m\u001B[0;34m\u001B[0m\u001B[0m\n",
      "\u001B[0;32m~/anaconda3/lib/python3.7/site-packages/sqlalchemy/orm/query.py\u001B[0m in \u001B[0;36mone_or_none\u001B[0;34m(self)\u001B[0m\n\u001B[1;32m   2932\u001B[0m             raise orm_exc.MultipleResultsFound(\n\u001B[0;32m-> 2933\u001B[0;31m                 \"Multiple rows were found for one_or_none()\")\n\u001B[0m\u001B[1;32m   2934\u001B[0m \u001B[0;34m\u001B[0m\u001B[0m\n",
      "\u001B[0;31mMultipleResultsFound\u001B[0m: Multiple rows were found for one_or_none()",
      "\nDuring handling of the above exception, another exception occurred:\n",
      "\u001B[0;31mMultipleResultsFound\u001B[0m                      Traceback (most recent call last)",
      "\u001B[0;32m<ipython-input-10-dcaa231fb083>\u001B[0m in \u001B[0;36m<module>\u001B[0;34m\u001B[0m\n\u001B[0;32m----> 1\u001B[0;31m \u001B[0msession\u001B[0m\u001B[0;34m.\u001B[0m\u001B[0mquery\u001B[0m\u001B[0;34m(\u001B[0m\u001B[0mUserType\u001B[0m\u001B[0;34m)\u001B[0m\u001B[0;34m.\u001B[0m\u001B[0mone\u001B[0m\u001B[0;34m(\u001B[0m\u001B[0;34m)\u001B[0m\u001B[0;34m\u001B[0m\u001B[0;34m\u001B[0m\u001B[0m\n\u001B[0m",
      "\u001B[0;32m~/anaconda3/lib/python3.7/site-packages/sqlalchemy/orm/query.py\u001B[0m in \u001B[0;36mone\u001B[0;34m(self)\u001B[0m\n\u001B[1;32m   2955\u001B[0m         \u001B[0;32mexcept\u001B[0m \u001B[0morm_exc\u001B[0m\u001B[0;34m.\u001B[0m\u001B[0mMultipleResultsFound\u001B[0m\u001B[0;34m:\u001B[0m\u001B[0;34m\u001B[0m\u001B[0;34m\u001B[0m\u001B[0m\n\u001B[1;32m   2956\u001B[0m             raise orm_exc.MultipleResultsFound(\n\u001B[0;32m-> 2957\u001B[0;31m                 \"Multiple rows were found for one()\")\n\u001B[0m\u001B[1;32m   2958\u001B[0m         \u001B[0;32melse\u001B[0m\u001B[0;34m:\u001B[0m\u001B[0;34m\u001B[0m\u001B[0;34m\u001B[0m\u001B[0m\n\u001B[1;32m   2959\u001B[0m             \u001B[0;32mif\u001B[0m \u001B[0mret\u001B[0m \u001B[0;32mis\u001B[0m \u001B[0;32mNone\u001B[0m\u001B[0;34m:\u001B[0m\u001B[0;34m\u001B[0m\u001B[0;34m\u001B[0m\u001B[0m\n",
      "\u001B[0;31mMultipleResultsFound\u001B[0m: Multiple rows were found for one()"
     ]
    }
   ],
   "source": [
    "session.query(UserType).one() "
   ]
  },
  {
   "cell_type": "markdown",
   "metadata": {
    "id": "mAxTc2xWbP3K",
    "pycharm": {
     "name": "#%% md\n"
    }
   },
   "source": [
    "Разные виды \"select\""
   ]
  },
  {
   "cell_type": "code",
   "execution_count": null,
   "metadata": {
    "id": "p9nwPTCPbP3K",
    "outputId": "7ca716f6-c082-4820-c0a5-56f587b93781",
    "pycharm": {
     "name": "#%%\n"
    }
   },
   "outputs": [
    {
     "name": "stdout",
     "output_type": "stream",
     "text": [
      "2019-04-07 00:52:21,436 INFO sqlalchemy.engine.base.Engine SELECT user_types.id AS user_types_id, user_types.name AS user_types_name \n",
      "FROM user_types ORDER BY user_types.id\n",
      "2019-04-07 00:52:21,438 INFO sqlalchemy.engine.base.Engine ()\n",
      "<class 'list'>\n",
      "[<UserType(name=teacher)>, <UserType(name=student)>]\n"
     ]
    }
   ],
   "source": [
    "results = session.query(UserType).order_by(UserType.id).all()\n",
    "print(type(results))\n",
    "print(results)"
   ]
  },
  {
   "cell_type": "code",
   "execution_count": null,
   "metadata": {
    "id": "XHBNdJUlbP3K",
    "outputId": "e39c17b4-1922-4c4c-a7cc-4077403d510a",
    "pycharm": {
     "name": "#%%\n"
    }
   },
   "outputs": [
    {
     "name": "stdout",
     "output_type": "stream",
     "text": [
      "2019-04-07 00:52:21,959 INFO sqlalchemy.engine.base.Engine SELECT user_types.name AS user_types_name, user_types.id AS user_types_id \n",
      "FROM user_types ORDER BY user_types.name\n",
      "2019-04-07 00:52:21,960 INFO sqlalchemy.engine.base.Engine ()\n",
      "student 2\n",
      "teacher 1\n"
     ]
    }
   ],
   "source": [
    "for name, user_id in session.query(UserType.name, UserType.id).order_by(UserType.name):\n",
    "    print(name, user_id)"
   ]
  },
  {
   "cell_type": "markdown",
   "metadata": {
    "id": "UsbApbJ-bP3L",
    "pycharm": {
     "name": "#%% md\n"
    }
   },
   "source": [
    "#### Добавим нового учителя"
   ]
  },
  {
   "cell_type": "code",
   "execution_count": null,
   "metadata": {
    "id": "gVWe-78vbP3L",
    "outputId": "f5cd6fcb-0ee5-447b-896b-38c5a3443c0b",
    "pycharm": {
     "name": "#%%\n"
    }
   },
   "outputs": [
    {
     "name": "stdout",
     "output_type": "stream",
     "text": [
      "2019-04-07 00:52:23,111 INFO sqlalchemy.engine.base.Engine SELECT users.id AS users_id, users.first_name AS users_first_name, users.last_name AS users_last_name, users.active AS users_active, users.profile_id AS users_profile_id \n",
      "FROM users \n",
      "WHERE ? = users.profile_id\n",
      "2019-04-07 00:52:23,113 INFO sqlalchemy.engine.base.Engine (1,)\n",
      "2019-04-07 00:52:23,120 INFO sqlalchemy.engine.base.Engine INSERT INTO users (first_name, last_name, active, profile_id) VALUES (?, ?, ?, ?)\n",
      "2019-04-07 00:52:23,121 INFO sqlalchemy.engine.base.Engine ('Maxim', 'Popov', 1, 1)\n",
      "2019-04-07 00:52:23,124 INFO sqlalchemy.engine.base.Engine COMMIT\n"
     ]
    }
   ],
   "source": [
    "user = User(first_name=\"Maxim\", last_name=\"Popov\", active=True)\n",
    "teacher.users.append(user)\n",
    "session.add(user)\n",
    "session.commit()"
   ]
  },
  {
   "cell_type": "code",
   "execution_count": null,
   "metadata": {
    "id": "_rwEVFObbP3L",
    "outputId": "91ee601e-f8e7-4680-a65f-01d0b8e441d5",
    "pycharm": {
     "name": "#%%\n"
    }
   },
   "outputs": [
    {
     "name": "stdout",
     "output_type": "stream",
     "text": [
      "2019-04-07 00:52:23,662 INFO sqlalchemy.engine.base.Engine BEGIN (implicit)\n",
      "2019-04-07 00:52:23,664 INFO sqlalchemy.engine.base.Engine SELECT users.id AS users_id, users.first_name AS users_first_name, users.last_name AS users_last_name, users.active AS users_active, users.profile_id AS users_profile_id \n",
      "FROM users\n",
      " LIMIT ? OFFSET ?\n",
      "2019-04-07 00:52:23,664 INFO sqlalchemy.engine.base.Engine (1, 0)\n"
     ]
    },
    {
     "data": {
      "text/plain": [
       "<User(first_name=Maxim, last_name=Popov, active=True)>"
      ]
     },
     "execution_count": 14,
     "metadata": {},
     "output_type": "execute_result"
    }
   ],
   "source": [
    "res = session.query(User).first() \n",
    "res"
   ]
  },
  {
   "cell_type": "code",
   "execution_count": null,
   "metadata": {
    "id": "zlehT82LbP3L",
    "outputId": "9862d52e-f329-4315-ae3b-968108df2aa5",
    "pycharm": {
     "name": "#%%\n"
    }
   },
   "outputs": [
    {
     "name": "stdout",
     "output_type": "stream",
     "text": [
      "2019-04-07 00:52:24,221 INFO sqlalchemy.engine.base.Engine SELECT user_types.id AS user_types_id, user_types.name AS user_types_name \n",
      "FROM user_types \n",
      "WHERE user_types.id = ?\n",
      "2019-04-07 00:52:24,223 INFO sqlalchemy.engine.base.Engine (1,)\n"
     ]
    },
    {
     "data": {
      "text/plain": [
       "<UserType(name=teacher)>"
      ]
     },
     "execution_count": 15,
     "metadata": {},
     "output_type": "execute_result"
    }
   ],
   "source": [
    "res.profile"
   ]
  },
  {
   "cell_type": "markdown",
   "metadata": {
    "id": "k67k6o0ebP3L",
    "pycharm": {
     "name": "#%% md\n"
    }
   },
   "source": [
    "Добавим студента"
   ]
  },
  {
   "cell_type": "code",
   "execution_count": null,
   "metadata": {
    "id": "mnB-H3D8bP3L",
    "outputId": "56aeb886-67a2-41e9-8308-ea2a6aaec82b",
    "pycharm": {
     "name": "#%%\n"
    }
   },
   "outputs": [
    {
     "name": "stdout",
     "output_type": "stream",
     "text": [
      "2019-04-07 00:52:25,274 INFO sqlalchemy.engine.base.Engine SELECT user_types.id AS user_types_id, user_types.name AS user_types_name \n",
      "FROM user_types \n",
      "WHERE user_types.id = ?\n",
      "2019-04-07 00:52:25,275 INFO sqlalchemy.engine.base.Engine (2,)\n",
      "2019-04-07 00:52:25,276 INFO sqlalchemy.engine.base.Engine INSERT INTO users (first_name, last_name, active, profile_id) VALUES (?, ?, ?, ?)\n",
      "2019-04-07 00:52:25,277 INFO sqlalchemy.engine.base.Engine ('Petr', 'Sidorov', 0, 2)\n",
      "2019-04-07 00:52:25,278 INFO sqlalchemy.engine.base.Engine COMMIT\n"
     ]
    }
   ],
   "source": [
    "user = User(first_name=\"Petr\", last_name=\"Sidorov\", active=False, profile=student)\n",
    "session.add(user)\n",
    "session.commit()"
   ]
  },
  {
   "cell_type": "code",
   "execution_count": null,
   "metadata": {
    "id": "0n7FBVUZbP3M",
    "outputId": "0e767a78-158b-40e9-d368-f4594c687342",
    "pycharm": {
     "name": "#%%\n"
    }
   },
   "outputs": [
    {
     "name": "stdout",
     "output_type": "stream",
     "text": [
      "2019-04-07 00:52:25,799 INFO sqlalchemy.engine.base.Engine BEGIN (implicit)\n",
      "2019-04-07 00:52:25,799 INFO sqlalchemy.engine.base.Engine SELECT user_types.id AS user_types_id, user_types.name AS user_types_name \n",
      "FROM user_types \n",
      "WHERE user_types.id = ?\n",
      "2019-04-07 00:52:25,800 INFO sqlalchemy.engine.base.Engine (2,)\n",
      "2019-04-07 00:52:25,801 INFO sqlalchemy.engine.base.Engine SELECT users.id AS users_id, users.first_name AS users_first_name, users.last_name AS users_last_name, users.active AS users_active, users.profile_id AS users_profile_id \n",
      "FROM users \n",
      "WHERE ? = users.profile_id\n",
      "2019-04-07 00:52:25,801 INFO sqlalchemy.engine.base.Engine (2,)\n"
     ]
    },
    {
     "data": {
      "text/plain": [
       "[<User(first_name=Petr, last_name=Sidorov, active=False)>]"
      ]
     },
     "execution_count": 17,
     "metadata": {},
     "output_type": "execute_result"
    }
   ],
   "source": [
    "student.users"
   ]
  },
  {
   "cell_type": "markdown",
   "metadata": {
    "id": "VxGNCT3IbP3M",
    "pycharm": {
     "name": "#%% md\n"
    }
   },
   "source": [
    "Сделаем его учителем"
   ]
  },
  {
   "cell_type": "code",
   "execution_count": null,
   "metadata": {
    "id": "8Ftgs78NbP3M",
    "outputId": "aaafe248-acdf-4ccc-e556-d9340a1379ac",
    "pycharm": {
     "name": "#%%\n"
    }
   },
   "outputs": [
    {
     "name": "stdout",
     "output_type": "stream",
     "text": [
      "2019-04-07 00:52:29,822 INFO sqlalchemy.engine.base.Engine SELECT user_types.id AS user_types_id, user_types.name AS user_types_name \n",
      "FROM user_types \n",
      "WHERE user_types.id = ?\n",
      "2019-04-07 00:52:29,825 INFO sqlalchemy.engine.base.Engine (1,)\n",
      "2019-04-07 00:52:29,829 INFO sqlalchemy.engine.base.Engine UPDATE users SET profile_id=? WHERE users.id = ?\n",
      "2019-04-07 00:52:29,832 INFO sqlalchemy.engine.base.Engine (1, 2)\n",
      "2019-04-07 00:52:29,836 INFO sqlalchemy.engine.base.Engine COMMIT\n"
     ]
    }
   ],
   "source": [
    "user.profile = teacher\n",
    "session.commit()"
   ]
  },
  {
   "cell_type": "code",
   "execution_count": null,
   "metadata": {
    "id": "XMleynpvbP3M",
    "outputId": "6fca9846-d238-4e36-d4f5-b7be1552bdd2",
    "pycharm": {
     "name": "#%%\n"
    }
   },
   "outputs": [
    {
     "name": "stdout",
     "output_type": "stream",
     "text": [
      "2019-04-07 00:52:30,582 INFO sqlalchemy.engine.base.Engine BEGIN (implicit)\n",
      "2019-04-07 00:52:30,584 INFO sqlalchemy.engine.base.Engine SELECT user_types.id AS user_types_id, user_types.name AS user_types_name \n",
      "FROM user_types \n",
      "WHERE user_types.id = ?\n",
      "2019-04-07 00:52:30,586 INFO sqlalchemy.engine.base.Engine (2,)\n",
      "2019-04-07 00:52:30,589 INFO sqlalchemy.engine.base.Engine SELECT users.id AS users_id, users.first_name AS users_first_name, users.last_name AS users_last_name, users.active AS users_active, users.profile_id AS users_profile_id \n",
      "FROM users \n",
      "WHERE ? = users.profile_id\n",
      "2019-04-07 00:52:30,590 INFO sqlalchemy.engine.base.Engine (2,)\n"
     ]
    },
    {
     "data": {
      "text/plain": [
       "[]"
      ]
     },
     "execution_count": 19,
     "metadata": {},
     "output_type": "execute_result"
    }
   ],
   "source": [
    "student.users"
   ]
  },
  {
   "cell_type": "code",
   "execution_count": null,
   "metadata": {
    "id": "3ZQVSpd8bP3M",
    "outputId": "0c60266b-052d-411a-f0ef-711b93375ff4",
    "pycharm": {
     "name": "#%%\n"
    }
   },
   "outputs": [
    {
     "name": "stdout",
     "output_type": "stream",
     "text": [
      "2019-04-07 00:52:31,312 INFO sqlalchemy.engine.base.Engine SELECT user_types.id AS user_types_id, user_types.name AS user_types_name \n",
      "FROM user_types \n",
      "WHERE user_types.id = ?\n",
      "2019-04-07 00:52:31,313 INFO sqlalchemy.engine.base.Engine (1,)\n",
      "2019-04-07 00:52:31,315 INFO sqlalchemy.engine.base.Engine SELECT users.id AS users_id, users.first_name AS users_first_name, users.last_name AS users_last_name, users.active AS users_active, users.profile_id AS users_profile_id \n",
      "FROM users \n",
      "WHERE ? = users.profile_id\n",
      "2019-04-07 00:52:31,316 INFO sqlalchemy.engine.base.Engine (1,)\n"
     ]
    },
    {
     "data": {
      "text/plain": [
       "[<User(first_name=Maxim, last_name=Popov, active=True)>,\n",
       " <User(first_name=Petr, last_name=Sidorov, active=False)>]"
      ]
     },
     "execution_count": 20,
     "metadata": {},
     "output_type": "execute_result"
    }
   ],
   "source": [
    "teacher.users"
   ]
  },
  {
   "cell_type": "markdown",
   "metadata": {
    "id": "O4RW7hVnbP3M",
    "pycharm": {
     "name": "#%% md\n"
    }
   },
   "source": [
    "Какая еще бывает фильтрация?"
   ]
  },
  {
   "cell_type": "code",
   "execution_count": null,
   "metadata": {
    "id": "ezU-j8olbP3M",
    "outputId": "1974fbfa-4719-4604-b1bf-00fbe200172f",
    "pycharm": {
     "name": "#%%\n"
    }
   },
   "outputs": [
    {
     "data": {
      "text/plain": [
       "<sqlalchemy.orm.query.Query at 0x7fbbd930f668>"
      ]
     },
     "execution_count": 21,
     "metadata": {},
     "output_type": "execute_result"
    }
   ],
   "source": [
    "# equals\n",
    "session.query(UserType).filter(UserType.name == 'teacher')\n",
    "# not equals\n",
    "session.query(UserType).filter(UserType.name != 'teacher')\n",
    "# LIKE\n",
    "session.query(UserType).filter(UserType.name.like('%tea%'))\n",
    "# ILIKE (case-insensitive LIKE):\n",
    "session.query(UserType).filter(UserType.name.ilike('%TeA%'))\n",
    "# IS NULL\n",
    "session.query(UserType).filter(UserType.name.is_(None))\n",
    "# IS NOT NULL\n",
    "session.query(UserType).filter(UserType.name.isnot(None))\n",
    "              \n",
    "from sqlalchemy import and_\n",
    "#AND\n",
    "session.query(UserType).filter(and_(UserType.name.isnot(None), UserType.name != 'abc'))\n",
    "session.query(UserType).filter(UserType.name.isnot(None), UserType.name != 'abc')\n",
    "session.query(UserType).filter(UserType.name.isnot(None)).filter(UserType.name != 'abc')\n",
    "\n",
    "#OR\n",
    "from sqlalchemy import or_\n",
    "session.query(UserType).filter(or_(UserType.name.isnot(None), UserType.name != 'abc'))"
   ]
  },
  {
   "cell_type": "code",
   "execution_count": null,
   "metadata": {
    "id": "l-09eOM8bP3N",
    "outputId": "e149950f-566d-440c-9cdd-e269833e65f6",
    "pycharm": {
     "name": "#%%\n"
    }
   },
   "outputs": [
    {
     "name": "stdout",
     "output_type": "stream",
     "text": [
      "2019-04-07 00:52:33,498 INFO sqlalchemy.engine.base.Engine SELECT users.id AS users_id, users.first_name AS users_first_name, users.last_name AS users_last_name, users.active AS users_active, users.profile_id AS users_profile_id \n",
      "FROM users \n",
      "WHERE users.profile_id IN (SELECT user_types.id AS user_types_id \n",
      "FROM user_types)\n",
      "2019-04-07 00:52:33,499 INFO sqlalchemy.engine.base.Engine ()\n"
     ]
    },
    {
     "data": {
      "text/plain": [
       "[<User(first_name=Maxim, last_name=Popov, active=True)>,\n",
       " <User(first_name=Petr, last_name=Sidorov, active=False)>]"
      ]
     },
     "execution_count": 22,
     "metadata": {},
     "output_type": "execute_result"
    }
   ],
   "source": [
    "#IN\n",
    "session.query(User).filter(User.profile_id.in_(\n",
    "    session.query(UserType.id)\n",
    ")).all()"
   ]
  },
  {
   "cell_type": "markdown",
   "metadata": {
    "id": "-Il1NmveZMjc",
    "pycharm": {
     "name": "#%% md\n"
    }
   },
   "source": [
    "## ORM: плюсы и минусы\n",
    "\n",
    "ORM, по идее, должен избавить нас от написания SQL запросов и, в идеале, вообще абстрагировать от базы данных (от способа хранения данных), чтобы мы могли работать с классами, в той или иной степени выражающими объекты бизнес-логики, не задаваясь вопросом, в каких таблицах всё это по факту лежит.\n",
    "\n",
    "Для примера возьмем две таблицы: книги и авторы книг, отношение многие-ко- многим (у книг может быть много авторов, у авторов может быть много книг). Т.е. в базе это будут books, authors и связующая таблица author_book:\n",
    "\n",
    "```sql\n",
    " CREATE TABLE authors (\n",
    "    id serial\n",
    "  , name varchar(1000) not null\n",
    "  , PRIMARY KEY (id)\n",
    ");\n",
    "CREATE TABLE books (\n",
    "    id serial\n",
    "  , name VARCHAR (1000) not null\n",
    "  , text text not null\n",
    "  , PRIMARY KEY (id)\n",
    ");\n",
    "CREATE TABLE author_book (\n",
    "    author_id bigint REFERENCES authors(id)\n",
    "  , book_id bigint REFERENCES books(id)\n",
    "  , PRIMARY KEY (author_id, book_id)\n",
    ");\n",
    "```"
   ]
  },
  {
   "cell_type": "markdown",
   "metadata": {
    "id": "4665E9-dZMjc",
    "pycharm": {
     "name": "#%% md\n"
    }
   },
   "source": [
    "## ORM: плюсы и минусы\n",
    "\n",
    "### Кейс 1: создание записей\n",
    "\n",
    "- Pure SQL\n",
    "    - Piece of cake. Простые CREATE и INSERT\n",
    "    - Много писанины\n",
    "    - Нужно знать синтаксис SQL\n",
    "- ORM\n",
    "    - Piece of cake. Создаём нужные классы, наполняем\n",
    "    - Много писанины\n",
    "    - Нужно разобраться с ORM"
   ]
  },
  {
   "cell_type": "markdown",
   "metadata": {
    "id": "rPE2S_MUZMjc",
    "pycharm": {
     "name": "#%% md\n"
    }
   },
   "source": [
    "### Кейс 2: обновление записей\n",
    "\n",
    "- Pure SQL\n",
    "    - Piece of cake. Просто UPDATE\n",
    "- ORM\n",
    "    - Piece of cake. Пользуемся нужным методом (как с именем бабули ранее)"
   ]
  },
  {
   "cell_type": "markdown",
   "metadata": {
    "id": "WuPJr6ivZMjd",
    "pycharm": {
     "name": "#%% md\n"
    }
   },
   "source": [
    "### Кейс 3: простая выборка\n",
    "-  Pure SQL\n",
    "    - Piece of cake. Запрос с агрегацией:\n",
    "    ```sql\n",
    "      select\n",
    "        b.id as book_id\n",
    "        , b.name as book_name\n",
    "        , json_agg(a.name) as authors\n",
    "      from\n",
    "        books b\n",
    "      inner join\n",
    "        author_book ab\n",
    "          on b.id = ab.book_id\n",
    "      inner join\n",
    "        authors a\n",
    "          on ab.author_id = a.id\n",
    "      group by\n",
    "        b.id;\n",
    "```\n",
    "- ORM\n",
    "    - Piece of cake (так ли это?)\n",
    "        - Проходим циклом и находим нужное\n",
    "        - Будет несколько запросов: выборка всех книг и для каждой выборка автора\n",
    "        - С ростом количества данных будет выполняться всё дольше\n",
    "        - Вытянутся все поля, а не только нужные; придётся разбираться с SQL"
   ]
  },
  {
   "cell_type": "markdown",
   "metadata": {
    "id": "97lR97nCZMjd",
    "pycharm": {
     "name": "#%% md\n"
    }
   },
   "source": [
    "## ORM: плюсы и минусы\n",
    "\n",
    "### Кейс 4: сложное обновление\n",
    "\n",
    "- Pure SQL\n",
    "    - Piece of cake. Простой подзапрос\n",
    "    ```sql\n",
    "      UPDATE authors\n",
    "      SET name = 'Лев Толстой'\n",
    "      WHERE id in (\n",
    "          SELECT\n",
    "            id\n",
    "          FROM\n",
    "            authors\n",
    "          ORDER BY\n",
    "            id DESC\n",
    "          LIMIT 2 );\n",
    "    ```\n",
    "- ORM\n",
    "    - Долгое изучение мануалов\n",
    "    - Никаких подзапросов\n",
    "    - Неоптимально с точки зрения БД"
   ]
  }
 ],
 "metadata": {
  "celltoolbar": "Slideshow",
  "kernelspec": {
   "display_name": "Python 3",
   "language": "python",
   "name": "python3"
  },
  "language_info": {
   "codemirror_mode": {
    "name": "ipython",
    "version": 3
   },
   "file_extension": ".py",
   "mimetype": "text/x-python",
   "name": "python",
   "nbconvert_exporter": "python",
   "pygments_lexer": "ipython3",
   "version": "3.7.1"
  },
  "colab": {
   "provenance": []
  }
 },
 "nbformat": 4,
 "nbformat_minor": 0
}